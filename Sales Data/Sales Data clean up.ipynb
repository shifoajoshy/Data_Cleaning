{
 "cells": [
  {
   "cell_type": "markdown",
   "id": "5cf3e243",
   "metadata": {},
   "source": [
    "# Project : Data Cleaning - Sales Dataset"
   ]
  },
  {
   "cell_type": "markdown",
   "id": "f03c7008",
   "metadata": {},
   "source": [
    "## Inspecing Data"
   ]
  },
  {
   "cell_type": "code",
   "execution_count": 1,
   "id": "6c3de019",
   "metadata": {},
   "outputs": [],
   "source": [
    "import os\n",
    "import pandas as pd"
   ]
  },
  {
   "cell_type": "code",
   "execution_count": 2,
   "id": "7afcaf6e",
   "metadata": {},
   "outputs": [
    {
     "data": {
      "text/html": [
       "<div>\n",
       "<style scoped>\n",
       "    .dataframe tbody tr th:only-of-type {\n",
       "        vertical-align: middle;\n",
       "    }\n",
       "\n",
       "    .dataframe tbody tr th {\n",
       "        vertical-align: top;\n",
       "    }\n",
       "\n",
       "    .dataframe thead th {\n",
       "        text-align: right;\n",
       "    }\n",
       "</style>\n",
       "<table border=\"1\" class=\"dataframe\">\n",
       "  <thead>\n",
       "    <tr style=\"text-align: right;\">\n",
       "      <th></th>\n",
       "      <th>Order ID</th>\n",
       "      <th>Product</th>\n",
       "      <th>Quantity Ordered</th>\n",
       "      <th>Price Each</th>\n",
       "      <th>Order Date</th>\n",
       "      <th>Purchase Address</th>\n",
       "    </tr>\n",
       "  </thead>\n",
       "  <tbody>\n",
       "    <tr>\n",
       "      <th>0</th>\n",
       "      <td>176558</td>\n",
       "      <td>USB-C Charging Cable</td>\n",
       "      <td>2</td>\n",
       "      <td>11.95</td>\n",
       "      <td>04/19/19 08:46</td>\n",
       "      <td>917 1st St, Dallas, TX 75001</td>\n",
       "    </tr>\n",
       "    <tr>\n",
       "      <th>1</th>\n",
       "      <td>NaN</td>\n",
       "      <td>NaN</td>\n",
       "      <td>NaN</td>\n",
       "      <td>NaN</td>\n",
       "      <td>NaN</td>\n",
       "      <td>NaN</td>\n",
       "    </tr>\n",
       "    <tr>\n",
       "      <th>2</th>\n",
       "      <td>176559</td>\n",
       "      <td>Bose SoundSport Headphones</td>\n",
       "      <td>1</td>\n",
       "      <td>99.99</td>\n",
       "      <td>04/07/19 22:30</td>\n",
       "      <td>682 Chestnut St, Boston, MA 02215</td>\n",
       "    </tr>\n",
       "    <tr>\n",
       "      <th>3</th>\n",
       "      <td>176560</td>\n",
       "      <td>Google Phone</td>\n",
       "      <td>1</td>\n",
       "      <td>600</td>\n",
       "      <td>04/12/19 14:38</td>\n",
       "      <td>669 Spruce St, Los Angeles, CA 90001</td>\n",
       "    </tr>\n",
       "    <tr>\n",
       "      <th>4</th>\n",
       "      <td>176560</td>\n",
       "      <td>Wired Headphones</td>\n",
       "      <td>1</td>\n",
       "      <td>11.99</td>\n",
       "      <td>04/12/19 14:38</td>\n",
       "      <td>669 Spruce St, Los Angeles, CA 90001</td>\n",
       "    </tr>\n",
       "    <tr>\n",
       "      <th>...</th>\n",
       "      <td>...</td>\n",
       "      <td>...</td>\n",
       "      <td>...</td>\n",
       "      <td>...</td>\n",
       "      <td>...</td>\n",
       "      <td>...</td>\n",
       "    </tr>\n",
       "    <tr>\n",
       "      <th>186845</th>\n",
       "      <td>259353</td>\n",
       "      <td>AAA Batteries (4-pack)</td>\n",
       "      <td>3</td>\n",
       "      <td>2.99</td>\n",
       "      <td>09/17/19 20:56</td>\n",
       "      <td>840 Highland St, Los Angeles, CA 90001</td>\n",
       "    </tr>\n",
       "    <tr>\n",
       "      <th>186846</th>\n",
       "      <td>259354</td>\n",
       "      <td>iPhone</td>\n",
       "      <td>1</td>\n",
       "      <td>700</td>\n",
       "      <td>09/01/19 16:00</td>\n",
       "      <td>216 Dogwood St, San Francisco, CA 94016</td>\n",
       "    </tr>\n",
       "    <tr>\n",
       "      <th>186847</th>\n",
       "      <td>259355</td>\n",
       "      <td>iPhone</td>\n",
       "      <td>1</td>\n",
       "      <td>700</td>\n",
       "      <td>09/23/19 07:39</td>\n",
       "      <td>220 12th St, San Francisco, CA 94016</td>\n",
       "    </tr>\n",
       "    <tr>\n",
       "      <th>186848</th>\n",
       "      <td>259356</td>\n",
       "      <td>34in Ultrawide Monitor</td>\n",
       "      <td>1</td>\n",
       "      <td>379.99</td>\n",
       "      <td>09/19/19 17:30</td>\n",
       "      <td>511 Forest St, San Francisco, CA 94016</td>\n",
       "    </tr>\n",
       "    <tr>\n",
       "      <th>186849</th>\n",
       "      <td>259357</td>\n",
       "      <td>USB-C Charging Cable</td>\n",
       "      <td>1</td>\n",
       "      <td>11.95</td>\n",
       "      <td>09/30/19 00:18</td>\n",
       "      <td>250 Meadow St, San Francisco, CA 94016</td>\n",
       "    </tr>\n",
       "  </tbody>\n",
       "</table>\n",
       "<p>186850 rows × 6 columns</p>\n",
       "</div>"
      ],
      "text/plain": [
       "       Order ID                     Product Quantity Ordered Price Each  \\\n",
       "0        176558        USB-C Charging Cable                2      11.95   \n",
       "1           NaN                         NaN              NaN        NaN   \n",
       "2        176559  Bose SoundSport Headphones                1      99.99   \n",
       "3        176560                Google Phone                1        600   \n",
       "4        176560            Wired Headphones                1      11.99   \n",
       "...         ...                         ...              ...        ...   \n",
       "186845   259353      AAA Batteries (4-pack)                3       2.99   \n",
       "186846   259354                      iPhone                1        700   \n",
       "186847   259355                      iPhone                1        700   \n",
       "186848   259356      34in Ultrawide Monitor                1     379.99   \n",
       "186849   259357        USB-C Charging Cable                1      11.95   \n",
       "\n",
       "            Order Date                         Purchase Address  \n",
       "0       04/19/19 08:46             917 1st St, Dallas, TX 75001  \n",
       "1                  NaN                                      NaN  \n",
       "2       04/07/19 22:30        682 Chestnut St, Boston, MA 02215  \n",
       "3       04/12/19 14:38     669 Spruce St, Los Angeles, CA 90001  \n",
       "4       04/12/19 14:38     669 Spruce St, Los Angeles, CA 90001  \n",
       "...                ...                                      ...  \n",
       "186845  09/17/19 20:56   840 Highland St, Los Angeles, CA 90001  \n",
       "186846  09/01/19 16:00  216 Dogwood St, San Francisco, CA 94016  \n",
       "186847  09/23/19 07:39     220 12th St, San Francisco, CA 94016  \n",
       "186848  09/19/19 17:30   511 Forest St, San Francisco, CA 94016  \n",
       "186849  09/30/19 00:18   250 Meadow St, San Francisco, CA 94016  \n",
       "\n",
       "[186850 rows x 6 columns]"
      ]
     },
     "execution_count": 2,
     "metadata": {},
     "output_type": "execute_result"
    }
   ],
   "source": [
    "pd.options.display.max_columns = 30\n",
    "df = pd.read_csv(\"all_data.csv\", low_memory=False)\n",
    "df"
   ]
  },
  {
   "cell_type": "code",
   "execution_count": 3,
   "id": "309062d4",
   "metadata": {},
   "outputs": [
    {
     "name": "stdout",
     "output_type": "stream",
     "text": [
      "<class 'pandas.core.frame.DataFrame'>\n",
      "RangeIndex: 186850 entries, 0 to 186849\n",
      "Data columns (total 6 columns):\n",
      " #   Column            Non-Null Count   Dtype \n",
      "---  ------            --------------   ----- \n",
      " 0   Order ID          186305 non-null  object\n",
      " 1   Product           186305 non-null  object\n",
      " 2   Quantity Ordered  186305 non-null  object\n",
      " 3   Price Each        186305 non-null  object\n",
      " 4   Order Date        186305 non-null  object\n",
      " 5   Purchase Address  186305 non-null  object\n",
      "dtypes: object(6)\n",
      "memory usage: 8.6+ MB\n"
     ]
    }
   ],
   "source": [
    "df.info()"
   ]
  },
  {
   "cell_type": "code",
   "execution_count": 34,
   "id": "c7125faf",
   "metadata": {},
   "outputs": [
    {
     "data": {
      "text/plain": [
       "'USB-C Charging Cable'"
      ]
     },
     "execution_count": 34,
     "metadata": {},
     "output_type": "execute_result"
    }
   ],
   "source": [
    "df.Product[0]"
   ]
  },
  {
   "cell_type": "code",
   "execution_count": 5,
   "id": "447bc0bb",
   "metadata": {},
   "outputs": [
    {
     "data": {
      "text/html": [
       "<div>\n",
       "<style scoped>\n",
       "    .dataframe tbody tr th:only-of-type {\n",
       "        vertical-align: middle;\n",
       "    }\n",
       "\n",
       "    .dataframe tbody tr th {\n",
       "        vertical-align: top;\n",
       "    }\n",
       "\n",
       "    .dataframe thead th {\n",
       "        text-align: right;\n",
       "    }\n",
       "</style>\n",
       "<table border=\"1\" class=\"dataframe\">\n",
       "  <thead>\n",
       "    <tr style=\"text-align: right;\">\n",
       "      <th></th>\n",
       "      <th>Order ID</th>\n",
       "      <th>Product</th>\n",
       "      <th>Quantity Ordered</th>\n",
       "      <th>Price Each</th>\n",
       "      <th>Order Date</th>\n",
       "      <th>Purchase Address</th>\n",
       "    </tr>\n",
       "  </thead>\n",
       "  <tbody>\n",
       "    <tr>\n",
       "      <th>0</th>\n",
       "      <td>176558</td>\n",
       "      <td>USB-C Charging Cable</td>\n",
       "      <td>2</td>\n",
       "      <td>11.95</td>\n",
       "      <td>04/19/19 08:46</td>\n",
       "      <td>917 1st St, Dallas, TX 75001</td>\n",
       "    </tr>\n",
       "    <tr>\n",
       "      <th>1</th>\n",
       "      <td>NaN</td>\n",
       "      <td>NaN</td>\n",
       "      <td>NaN</td>\n",
       "      <td>NaN</td>\n",
       "      <td>NaN</td>\n",
       "      <td>NaN</td>\n",
       "    </tr>\n",
       "    <tr>\n",
       "      <th>2</th>\n",
       "      <td>176559</td>\n",
       "      <td>Bose SoundSport Headphones</td>\n",
       "      <td>1</td>\n",
       "      <td>99.99</td>\n",
       "      <td>04/07/19 22:30</td>\n",
       "      <td>682 Chestnut St, Boston, MA 02215</td>\n",
       "    </tr>\n",
       "    <tr>\n",
       "      <th>3</th>\n",
       "      <td>176560</td>\n",
       "      <td>Google Phone</td>\n",
       "      <td>1</td>\n",
       "      <td>600</td>\n",
       "      <td>04/12/19 14:38</td>\n",
       "      <td>669 Spruce St, Los Angeles, CA 90001</td>\n",
       "    </tr>\n",
       "    <tr>\n",
       "      <th>4</th>\n",
       "      <td>176560</td>\n",
       "      <td>Wired Headphones</td>\n",
       "      <td>1</td>\n",
       "      <td>11.99</td>\n",
       "      <td>04/12/19 14:38</td>\n",
       "      <td>669 Spruce St, Los Angeles, CA 90001</td>\n",
       "    </tr>\n",
       "  </tbody>\n",
       "</table>\n",
       "</div>"
      ],
      "text/plain": [
       "  Order ID                     Product Quantity Ordered Price Each  \\\n",
       "0   176558        USB-C Charging Cable                2      11.95   \n",
       "1      NaN                         NaN              NaN        NaN   \n",
       "2   176559  Bose SoundSport Headphones                1      99.99   \n",
       "3   176560                Google Phone                1        600   \n",
       "4   176560            Wired Headphones                1      11.99   \n",
       "\n",
       "       Order Date                      Purchase Address  \n",
       "0  04/19/19 08:46          917 1st St, Dallas, TX 75001  \n",
       "1             NaN                                   NaN  \n",
       "2  04/07/19 22:30     682 Chestnut St, Boston, MA 02215  \n",
       "3  04/12/19 14:38  669 Spruce St, Los Angeles, CA 90001  \n",
       "4  04/12/19 14:38  669 Spruce St, Los Angeles, CA 90001  "
      ]
     },
     "execution_count": 5,
     "metadata": {},
     "output_type": "execute_result"
    }
   ],
   "source": [
    "df.head()"
   ]
  },
  {
   "cell_type": "code",
   "execution_count": 6,
   "id": "fea47234",
   "metadata": {},
   "outputs": [
    {
     "data": {
      "text/plain": [
       "Index(['Order ID', 'Product', 'Quantity Ordered', 'Price Each', 'Order Date',\n",
       "       'Purchase Address'],\n",
       "      dtype='object')"
      ]
     },
     "execution_count": 6,
     "metadata": {},
     "output_type": "execute_result"
    }
   ],
   "source": [
    "df.columns"
   ]
  },
  {
   "cell_type": "markdown",
   "id": "57a8df06",
   "metadata": {},
   "source": [
    "## Rename the column \"Price Each\" to \"Price/unit\""
   ]
  },
  {
   "cell_type": "code",
   "execution_count": 7,
   "id": "22eb1937",
   "metadata": {},
   "outputs": [],
   "source": [
    "df.rename(columns={\"Price Each\":\"Price/unit\"},inplace = True)"
   ]
  },
  {
   "cell_type": "code",
   "execution_count": 8,
   "id": "028cb538",
   "metadata": {},
   "outputs": [
    {
     "data": {
      "text/plain": [
       "Index(['Order ID', 'Product', 'Quantity Ordered', 'Price/unit', 'Order Date',\n",
       "       'Purchase Address'],\n",
       "      dtype='object')"
      ]
     },
     "execution_count": 8,
     "metadata": {},
     "output_type": "execute_result"
    }
   ],
   "source": [
    "# Confirm the change\n",
    "df.columns"
   ]
  },
  {
   "cell_type": "markdown",
   "id": "6c42c688",
   "metadata": {},
   "source": [
    "## Remove rows that contain empty cells"
   ]
  },
  {
   "cell_type": "code",
   "execution_count": 9,
   "id": "db810a16",
   "metadata": {},
   "outputs": [
    {
     "data": {
      "text/plain": [
       "Order ID            545\n",
       "Product             545\n",
       "Quantity Ordered    545\n",
       "Price/unit          545\n",
       "Order Date          545\n",
       "Purchase Address    545\n",
       "dtype: int64"
      ]
     },
     "execution_count": 9,
     "metadata": {},
     "output_type": "execute_result"
    }
   ],
   "source": [
    "df.isnull().sum()"
   ]
  },
  {
   "cell_type": "code",
   "execution_count": 10,
   "id": "18d27fad",
   "metadata": {},
   "outputs": [],
   "source": [
    "df.dropna(inplace = True)"
   ]
  },
  {
   "cell_type": "code",
   "execution_count": 11,
   "id": "caebdd50",
   "metadata": {},
   "outputs": [
    {
     "data": {
      "text/plain": [
       "Order ID            0\n",
       "Product             0\n",
       "Quantity Ordered    0\n",
       "Price/unit          0\n",
       "Order Date          0\n",
       "Purchase Address    0\n",
       "dtype: int64"
      ]
     },
     "execution_count": 11,
     "metadata": {},
     "output_type": "execute_result"
    }
   ],
   "source": [
    "#Verifing empty cells exist\n",
    "df.isnull().sum()"
   ]
  },
  {
   "cell_type": "code",
   "execution_count": 12,
   "id": "5272cfa9",
   "metadata": {},
   "outputs": [
    {
     "data": {
      "text/html": [
       "<div>\n",
       "<style scoped>\n",
       "    .dataframe tbody tr th:only-of-type {\n",
       "        vertical-align: middle;\n",
       "    }\n",
       "\n",
       "    .dataframe tbody tr th {\n",
       "        vertical-align: top;\n",
       "    }\n",
       "\n",
       "    .dataframe thead th {\n",
       "        text-align: right;\n",
       "    }\n",
       "</style>\n",
       "<table border=\"1\" class=\"dataframe\">\n",
       "  <thead>\n",
       "    <tr style=\"text-align: right;\">\n",
       "      <th></th>\n",
       "      <th>Order ID</th>\n",
       "      <th>Product</th>\n",
       "      <th>Quantity Ordered</th>\n",
       "      <th>Price/unit</th>\n",
       "      <th>Order Date</th>\n",
       "      <th>Purchase Address</th>\n",
       "    </tr>\n",
       "  </thead>\n",
       "  <tbody>\n",
       "  </tbody>\n",
       "</table>\n",
       "</div>"
      ],
      "text/plain": [
       "Empty DataFrame\n",
       "Columns: [Order ID, Product, Quantity Ordered, Price/unit, Order Date, Purchase Address]\n",
       "Index: []"
      ]
     },
     "metadata": {},
     "output_type": "display_data"
    }
   ],
   "source": [
    "#Verifing empty cells exist\n",
    "nan_df = df[df.isna().any(axis=1)]\n",
    "display(nan_df.head())"
   ]
  },
  {
   "cell_type": "markdown",
   "id": "19007865",
   "metadata": {},
   "source": [
    "## Data Type Conversion: Ensure that each column has the correct data type."
   ]
  },
  {
   "cell_type": "code",
   "execution_count": 13,
   "id": "7479140d",
   "metadata": {},
   "outputs": [
    {
     "name": "stdout",
     "output_type": "stream",
     "text": [
      "The data type of the Order ID column is:object\n",
      "The data type of the Product column is:object\n",
      "The data type of the Quantity Ordered column is:object\n",
      "The data type of the Price/unit column is:object\n",
      "The data type of the Order Date column is:object\n",
      "The data type of the Purchase Address column is:object\n"
     ]
    }
   ],
   "source": [
    "for col_name in df.columns:\n",
    "    product_type = df[col_name].dtype\n",
    "    print(\"The data type of the {0} column is:{1}\".format(col_name, product_type))"
   ]
  },
  {
   "cell_type": "code",
   "execution_count": 14,
   "id": "02001754",
   "metadata": {},
   "outputs": [],
   "source": [
    "#Some data cannot be coverted to int datatype, below code removes the row which cannot be coverted \n",
    "def is_numeric(value):\n",
    "    try:\n",
    "        float(value)\n",
    "        return True\n",
    "    except ValueError:\n",
    "        return False\n",
    "\n",
    "# Create a mask to identify rows with parsing errors\n",
    "mask = df['Quantity Ordered'].apply(lambda x: not is_numeric(x))\n",
    "\n",
    "# Get the positions of rows with parsing errors\n",
    "error_positions = df[mask].index\n",
    "\n",
    "# Drop rows with parsing errors from the DataFrame\n",
    "df.drop(error_positions, inplace=True)\n",
    "\n",
    "# Now, 'df' will be a DataFrame with the row causing the ValueError removed."
   ]
  },
  {
   "cell_type": "code",
   "execution_count": 15,
   "id": "2fd54c3c",
   "metadata": {},
   "outputs": [],
   "source": [
    "#Converts 'Quantity Ordered' column into numeric\n",
    "df['Quantity Ordered'] = pd.to_numeric(df['Quantity Ordered'])"
   ]
  },
  {
   "cell_type": "code",
   "execution_count": 16,
   "id": "843830fe",
   "metadata": {},
   "outputs": [
    {
     "name": "stdout",
     "output_type": "stream",
     "text": [
      "int64\n"
     ]
    }
   ],
   "source": [
    "#Verifing data type of 'Quantity Ordered'\n",
    "data_types = df['Quantity Ordered'].dtypes\n",
    "print(data_types)"
   ]
  },
  {
   "cell_type": "code",
   "execution_count": 17,
   "id": "c9a51ee6",
   "metadata": {},
   "outputs": [],
   "source": [
    "#Converts 'Price/unit' column into numeric\n",
    "df['Price/unit'] = pd.to_numeric(df['Price/unit'])"
   ]
  },
  {
   "cell_type": "code",
   "execution_count": 18,
   "id": "f9ad4608",
   "metadata": {},
   "outputs": [
    {
     "name": "stdout",
     "output_type": "stream",
     "text": [
      "float64\n"
     ]
    }
   ],
   "source": [
    "#Verifing data type of 'Quantity Ordered'\n",
    "data_types = df['Price/unit'].dtypes\n",
    "print(data_types)"
   ]
  },
  {
   "cell_type": "code",
   "execution_count": 19,
   "id": "5e2d752f",
   "metadata": {},
   "outputs": [],
   "source": [
    "#Converts 'Order ID' column into numeric\n",
    "df['Order ID'] = pd.to_numeric(df['Order ID'])"
   ]
  },
  {
   "cell_type": "code",
   "execution_count": 20,
   "id": "0b33c50c",
   "metadata": {},
   "outputs": [
    {
     "name": "stdout",
     "output_type": "stream",
     "text": [
      "int64\n"
     ]
    }
   ],
   "source": [
    "#Verifing data type of 'Order ID'\n",
    "data_types = df['Order ID'].dtypes\n",
    "print(data_types)"
   ]
  },
  {
   "cell_type": "markdown",
   "id": "82215e82",
   "metadata": {},
   "source": [
    "## Parsing Dates: Convert the 'Order Date' column to a datetime data type to facilitate date-based analysis."
   ]
  },
  {
   "cell_type": "code",
   "execution_count": 22,
   "id": "53dae692",
   "metadata": {},
   "outputs": [],
   "source": [
    "df['Order Date'] = pd.to_datetime(df['Order Date'])"
   ]
  },
  {
   "cell_type": "code",
   "execution_count": 23,
   "id": "9e79581e",
   "metadata": {},
   "outputs": [
    {
     "name": "stdout",
     "output_type": "stream",
     "text": [
      "datetime64[ns]\n"
     ]
    }
   ],
   "source": [
    "data_types = df['Order Date'].dtypes\n",
    "print(data_types)"
   ]
  },
  {
   "cell_type": "markdown",
   "id": "31a5fe48",
   "metadata": {},
   "source": [
    "## Extracting Address Information : Extract relevant address information (city & state) from the 'Purchase Address'"
   ]
  },
  {
   "cell_type": "code",
   "execution_count": 24,
   "id": "32385fe0",
   "metadata": {},
   "outputs": [
    {
     "data": {
      "text/html": [
       "<div>\n",
       "<style scoped>\n",
       "    .dataframe tbody tr th:only-of-type {\n",
       "        vertical-align: middle;\n",
       "    }\n",
       "\n",
       "    .dataframe tbody tr th {\n",
       "        vertical-align: top;\n",
       "    }\n",
       "\n",
       "    .dataframe thead th {\n",
       "        text-align: right;\n",
       "    }\n",
       "</style>\n",
       "<table border=\"1\" class=\"dataframe\">\n",
       "  <thead>\n",
       "    <tr style=\"text-align: right;\">\n",
       "      <th></th>\n",
       "      <th>Order ID</th>\n",
       "      <th>Product</th>\n",
       "      <th>Quantity Ordered</th>\n",
       "      <th>Price/unit</th>\n",
       "      <th>Order Date</th>\n",
       "      <th>Purchase Address</th>\n",
       "      <th>City</th>\n",
       "      <th>State</th>\n",
       "    </tr>\n",
       "  </thead>\n",
       "  <tbody>\n",
       "    <tr>\n",
       "      <th>0</th>\n",
       "      <td>176558</td>\n",
       "      <td>USB-C Charging Cable</td>\n",
       "      <td>2</td>\n",
       "      <td>11.95</td>\n",
       "      <td>2019-04-19 08:46:00</td>\n",
       "      <td>917 1st St, Dallas, TX 75001</td>\n",
       "      <td>Dallas</td>\n",
       "      <td>TX</td>\n",
       "    </tr>\n",
       "    <tr>\n",
       "      <th>2</th>\n",
       "      <td>176559</td>\n",
       "      <td>Bose SoundSport Headphones</td>\n",
       "      <td>1</td>\n",
       "      <td>99.99</td>\n",
       "      <td>2019-04-07 22:30:00</td>\n",
       "      <td>682 Chestnut St, Boston, MA 02215</td>\n",
       "      <td>Boston</td>\n",
       "      <td>MA</td>\n",
       "    </tr>\n",
       "    <tr>\n",
       "      <th>3</th>\n",
       "      <td>176560</td>\n",
       "      <td>Google Phone</td>\n",
       "      <td>1</td>\n",
       "      <td>600.00</td>\n",
       "      <td>2019-04-12 14:38:00</td>\n",
       "      <td>669 Spruce St, Los Angeles, CA 90001</td>\n",
       "      <td>Los Angeles</td>\n",
       "      <td>CA</td>\n",
       "    </tr>\n",
       "    <tr>\n",
       "      <th>4</th>\n",
       "      <td>176560</td>\n",
       "      <td>Wired Headphones</td>\n",
       "      <td>1</td>\n",
       "      <td>11.99</td>\n",
       "      <td>2019-04-12 14:38:00</td>\n",
       "      <td>669 Spruce St, Los Angeles, CA 90001</td>\n",
       "      <td>Los Angeles</td>\n",
       "      <td>CA</td>\n",
       "    </tr>\n",
       "    <tr>\n",
       "      <th>5</th>\n",
       "      <td>176561</td>\n",
       "      <td>Wired Headphones</td>\n",
       "      <td>1</td>\n",
       "      <td>11.99</td>\n",
       "      <td>2019-04-30 09:27:00</td>\n",
       "      <td>333 8th St, Los Angeles, CA 90001</td>\n",
       "      <td>Los Angeles</td>\n",
       "      <td>CA</td>\n",
       "    </tr>\n",
       "  </tbody>\n",
       "</table>\n",
       "</div>"
      ],
      "text/plain": [
       "   Order ID                     Product  Quantity Ordered  Price/unit  \\\n",
       "0    176558        USB-C Charging Cable                 2       11.95   \n",
       "2    176559  Bose SoundSport Headphones                 1       99.99   \n",
       "3    176560                Google Phone                 1      600.00   \n",
       "4    176560            Wired Headphones                 1       11.99   \n",
       "5    176561            Wired Headphones                 1       11.99   \n",
       "\n",
       "           Order Date                      Purchase Address         City State  \n",
       "0 2019-04-19 08:46:00          917 1st St, Dallas, TX 75001       Dallas    TX  \n",
       "2 2019-04-07 22:30:00     682 Chestnut St, Boston, MA 02215       Boston    MA  \n",
       "3 2019-04-12 14:38:00  669 Spruce St, Los Angeles, CA 90001  Los Angeles    CA  \n",
       "4 2019-04-12 14:38:00  669 Spruce St, Los Angeles, CA 90001  Los Angeles    CA  \n",
       "5 2019-04-30 09:27:00     333 8th St, Los Angeles, CA 90001  Los Angeles    CA  "
      ]
     },
     "execution_count": 24,
     "metadata": {},
     "output_type": "execute_result"
    }
   ],
   "source": [
    "def get_city(address):\n",
    "    return address.split(\",\")[1].strip(\" \")\n",
    "\n",
    "def get_state(address):\n",
    "    return address.split(\",\")[2].split(\" \")[1]\n",
    "\n",
    "df['City'] = df['Purchase Address'].apply(lambda x: f\"{get_city(x)}\")\n",
    "df['State'] = df['Purchase Address'].apply(lambda x: f\"{get_state(x)}\")\n",
    "df.head()"
   ]
  },
  {
   "cell_type": "markdown",
   "id": "b33a0890",
   "metadata": {},
   "source": [
    "## Add month column"
   ]
  },
  {
   "cell_type": "code",
   "execution_count": 25,
   "id": "afade11a",
   "metadata": {},
   "outputs": [
    {
     "name": "stdout",
     "output_type": "stream",
     "text": [
      "   Order ID                     Product  Quantity Ordered  Price/unit  \\\n",
      "0    176558        USB-C Charging Cable                 2       11.95   \n",
      "2    176559  Bose SoundSport Headphones                 1       99.99   \n",
      "3    176560                Google Phone                 1      600.00   \n",
      "4    176560            Wired Headphones                 1       11.99   \n",
      "5    176561            Wired Headphones                 1       11.99   \n",
      "\n",
      "           Order Date                      Purchase Address         City  \\\n",
      "0 2019-04-19 08:46:00          917 1st St, Dallas, TX 75001       Dallas   \n",
      "2 2019-04-07 22:30:00     682 Chestnut St, Boston, MA 02215       Boston   \n",
      "3 2019-04-12 14:38:00  669 Spruce St, Los Angeles, CA 90001  Los Angeles   \n",
      "4 2019-04-12 14:38:00  669 Spruce St, Los Angeles, CA 90001  Los Angeles   \n",
      "5 2019-04-30 09:27:00     333 8th St, Los Angeles, CA 90001  Los Angeles   \n",
      "\n",
      "  State  Month  \n",
      "0    TX      4  \n",
      "2    MA      4  \n",
      "3    CA      4  \n",
      "4    CA      4  \n",
      "5    CA      4  \n"
     ]
    }
   ],
   "source": [
    "df['Month'] = df['Order Date'].dt.month\n",
    "print(df.head())"
   ]
  },
  {
   "cell_type": "markdown",
   "id": "4900ce4a",
   "metadata": {},
   "source": [
    "## Removing duplicates"
   ]
  },
  {
   "cell_type": "code",
   "execution_count": 26,
   "id": "4eaf30d4",
   "metadata": {},
   "outputs": [
    {
     "name": "stdout",
     "output_type": "stream",
     "text": [
      "160873    5\n",
      "178158    4\n",
      "277875    4\n",
      "196615    4\n",
      "304802    4\n",
      "         ..\n",
      "158177    1\n",
      "158178    1\n",
      "158179    1\n",
      "158180    1\n",
      "259357    1\n",
      "Name: Order ID, Length: 178437, dtype: int64\n"
     ]
    }
   ],
   "source": [
    "value_counts = df['Order ID'].value_counts()\n",
    "print(value_counts)"
   ]
  },
  {
   "cell_type": "code",
   "execution_count": 27,
   "id": "8cf021e6",
   "metadata": {},
   "outputs": [],
   "source": [
    "#Removing duplicates in Order ID, since Order ID is always unique\n",
    "df.drop_duplicates(subset=\"Order ID\", keep=\"first\", inplace=True)"
   ]
  },
  {
   "cell_type": "code",
   "execution_count": 28,
   "id": "7c16997f",
   "metadata": {},
   "outputs": [
    {
     "name": "stdout",
     "output_type": "stream",
     "text": [
      "176558    1\n",
      "197960    1\n",
      "197952    1\n",
      "197953    1\n",
      "197954    1\n",
      "         ..\n",
      "156958    1\n",
      "156959    1\n",
      "156960    1\n",
      "156961    1\n",
      "259357    1\n",
      "Name: Order ID, Length: 178437, dtype: int64\n"
     ]
    }
   ],
   "source": [
    "#Verifying column \"Order ID\" consists duplicates\n",
    "value_counts = df['Order ID'].value_counts()\n",
    "print(value_counts)"
   ]
  },
  {
   "cell_type": "markdown",
   "id": "4f1f9f1f",
   "metadata": {},
   "source": [
    "## Separating date and time from column \"Order Date\""
   ]
  },
  {
   "cell_type": "code",
   "execution_count": 31,
   "id": "561717d2",
   "metadata": {},
   "outputs": [],
   "source": [
    "df[\"Date\"] = df[\"Order Date\"].dt.date\n",
    "df[\"Time\"] = df[\"Order Date\"].dt.time\n",
    "# Droppping column \"Order Date\"\n",
    "df.drop(\"Order Date\", axis=1, inplace=True)"
   ]
  },
  {
   "cell_type": "code",
   "execution_count": 37,
   "id": "ee642095",
   "metadata": {},
   "outputs": [
    {
     "name": "stdout",
     "output_type": "stream",
     "text": [
      "        Order ID                     Product  Quantity Ordered  Price/unit  \\\n",
      "0         176558        USB-C Charging Cable                 2       11.95   \n",
      "2         176559  Bose SoundSport Headphones                 1       99.99   \n",
      "3         176560                Google Phone                 1      600.00   \n",
      "5         176561            Wired Headphones                 1       11.99   \n",
      "6         176562        USB-C Charging Cable                 1       11.95   \n",
      "...          ...                         ...               ...         ...   \n",
      "186845    259353      AAA Batteries (4-pack)                 3        2.99   \n",
      "186846    259354                      iPhone                 1      700.00   \n",
      "186847    259355                      iPhone                 1      700.00   \n",
      "186848    259356      34in Ultrawide Monitor                 1      379.99   \n",
      "186849    259357        USB-C Charging Cable                 1       11.95   \n",
      "\n",
      "                               Purchase Address           City State  Month  \\\n",
      "0                  917 1st St, Dallas, TX 75001         Dallas    TX      4   \n",
      "2             682 Chestnut St, Boston, MA 02215         Boston    MA      4   \n",
      "3          669 Spruce St, Los Angeles, CA 90001    Los Angeles    CA      4   \n",
      "5             333 8th St, Los Angeles, CA 90001    Los Angeles    CA      4   \n",
      "6        381 Wilson St, San Francisco, CA 94016  San Francisco    CA      4   \n",
      "...                                         ...            ...   ...    ...   \n",
      "186845   840 Highland St, Los Angeles, CA 90001    Los Angeles    CA      9   \n",
      "186846  216 Dogwood St, San Francisco, CA 94016  San Francisco    CA      9   \n",
      "186847     220 12th St, San Francisco, CA 94016  San Francisco    CA      9   \n",
      "186848   511 Forest St, San Francisco, CA 94016  San Francisco    CA      9   \n",
      "186849   250 Meadow St, San Francisco, CA 94016  San Francisco    CA      9   \n",
      "\n",
      "              Date      Time  \n",
      "0       2019-04-19  08:46:00  \n",
      "2       2019-04-07  22:30:00  \n",
      "3       2019-04-12  14:38:00  \n",
      "5       2019-04-30  09:27:00  \n",
      "6       2019-04-29  13:03:00  \n",
      "...            ...       ...  \n",
      "186845  2019-09-17  20:56:00  \n",
      "186846  2019-09-01  16:00:00  \n",
      "186847  2019-09-23  07:39:00  \n",
      "186848  2019-09-19  17:30:00  \n",
      "186849  2019-09-30  00:18:00  \n",
      "\n",
      "[178437 rows x 10 columns]\n"
     ]
    }
   ],
   "source": [
    "print(df)"
   ]
  },
  {
   "cell_type": "markdown",
   "id": "dc89a3c3",
   "metadata": {},
   "source": [
    "## Adding column \"Total Cost\" (Total Cost = Quantity Ordered * Price/unit)"
   ]
  },
  {
   "cell_type": "code",
   "execution_count": 38,
   "id": "a884d25b",
   "metadata": {},
   "outputs": [
    {
     "name": "stdout",
     "output_type": "stream",
     "text": [
      "        Order ID                     Product  Quantity Ordered  Price/unit  \\\n",
      "0         176558        USB-C Charging Cable                 2       11.95   \n",
      "2         176559  Bose SoundSport Headphones                 1       99.99   \n",
      "3         176560                Google Phone                 1      600.00   \n",
      "5         176561            Wired Headphones                 1       11.99   \n",
      "6         176562        USB-C Charging Cable                 1       11.95   \n",
      "...          ...                         ...               ...         ...   \n",
      "186845    259353      AAA Batteries (4-pack)                 3        2.99   \n",
      "186846    259354                      iPhone                 1      700.00   \n",
      "186847    259355                      iPhone                 1      700.00   \n",
      "186848    259356      34in Ultrawide Monitor                 1      379.99   \n",
      "186849    259357        USB-C Charging Cable                 1       11.95   \n",
      "\n",
      "                               Purchase Address           City State  Month  \\\n",
      "0                  917 1st St, Dallas, TX 75001         Dallas    TX      4   \n",
      "2             682 Chestnut St, Boston, MA 02215         Boston    MA      4   \n",
      "3          669 Spruce St, Los Angeles, CA 90001    Los Angeles    CA      4   \n",
      "5             333 8th St, Los Angeles, CA 90001    Los Angeles    CA      4   \n",
      "6        381 Wilson St, San Francisco, CA 94016  San Francisco    CA      4   \n",
      "...                                         ...            ...   ...    ...   \n",
      "186845   840 Highland St, Los Angeles, CA 90001    Los Angeles    CA      9   \n",
      "186846  216 Dogwood St, San Francisco, CA 94016  San Francisco    CA      9   \n",
      "186847     220 12th St, San Francisco, CA 94016  San Francisco    CA      9   \n",
      "186848   511 Forest St, San Francisco, CA 94016  San Francisco    CA      9   \n",
      "186849   250 Meadow St, San Francisco, CA 94016  San Francisco    CA      9   \n",
      "\n",
      "              Date      Time  Total Cost  \n",
      "0       2019-04-19  08:46:00       23.90  \n",
      "2       2019-04-07  22:30:00       99.99  \n",
      "3       2019-04-12  14:38:00      600.00  \n",
      "5       2019-04-30  09:27:00       11.99  \n",
      "6       2019-04-29  13:03:00       11.95  \n",
      "...            ...       ...         ...  \n",
      "186845  2019-09-17  20:56:00        8.97  \n",
      "186846  2019-09-01  16:00:00      700.00  \n",
      "186847  2019-09-23  07:39:00      700.00  \n",
      "186848  2019-09-19  17:30:00      379.99  \n",
      "186849  2019-09-30  00:18:00       11.95  \n",
      "\n",
      "[178437 rows x 11 columns]\n"
     ]
    }
   ],
   "source": [
    "df[\"Total Cost\"] = df[\"Quantity Ordered\"] * df[\"Price/unit\"]\n",
    "print(df)"
   ]
  },
  {
   "cell_type": "code",
   "execution_count": 39,
   "id": "db7e133a",
   "metadata": {},
   "outputs": [
    {
     "name": "stdout",
     "output_type": "stream",
     "text": [
      "float64\n"
     ]
    }
   ],
   "source": [
    "data_types = df['Total Cost'].dtypes\n",
    "print(data_types)"
   ]
  },
  {
   "cell_type": "markdown",
   "id": "99e28946",
   "metadata": {},
   "source": [
    "## Final cleaned dataset"
   ]
  },
  {
   "cell_type": "code",
   "execution_count": 40,
   "id": "36e3b2c8",
   "metadata": {},
   "outputs": [
    {
     "data": {
      "text/html": [
       "<div>\n",
       "<style scoped>\n",
       "    .dataframe tbody tr th:only-of-type {\n",
       "        vertical-align: middle;\n",
       "    }\n",
       "\n",
       "    .dataframe tbody tr th {\n",
       "        vertical-align: top;\n",
       "    }\n",
       "\n",
       "    .dataframe thead th {\n",
       "        text-align: right;\n",
       "    }\n",
       "</style>\n",
       "<table border=\"1\" class=\"dataframe\">\n",
       "  <thead>\n",
       "    <tr style=\"text-align: right;\">\n",
       "      <th></th>\n",
       "      <th>Order ID</th>\n",
       "      <th>Product</th>\n",
       "      <th>Quantity Ordered</th>\n",
       "      <th>Price/unit</th>\n",
       "      <th>Purchase Address</th>\n",
       "      <th>City</th>\n",
       "      <th>State</th>\n",
       "      <th>Month</th>\n",
       "      <th>Date</th>\n",
       "      <th>Time</th>\n",
       "      <th>Total Cost</th>\n",
       "    </tr>\n",
       "  </thead>\n",
       "  <tbody>\n",
       "    <tr>\n",
       "      <th>0</th>\n",
       "      <td>176558</td>\n",
       "      <td>USB-C Charging Cable</td>\n",
       "      <td>2</td>\n",
       "      <td>11.95</td>\n",
       "      <td>917 1st St, Dallas, TX 75001</td>\n",
       "      <td>Dallas</td>\n",
       "      <td>TX</td>\n",
       "      <td>4</td>\n",
       "      <td>2019-04-19</td>\n",
       "      <td>08:46:00</td>\n",
       "      <td>23.90</td>\n",
       "    </tr>\n",
       "    <tr>\n",
       "      <th>2</th>\n",
       "      <td>176559</td>\n",
       "      <td>Bose SoundSport Headphones</td>\n",
       "      <td>1</td>\n",
       "      <td>99.99</td>\n",
       "      <td>682 Chestnut St, Boston, MA 02215</td>\n",
       "      <td>Boston</td>\n",
       "      <td>MA</td>\n",
       "      <td>4</td>\n",
       "      <td>2019-04-07</td>\n",
       "      <td>22:30:00</td>\n",
       "      <td>99.99</td>\n",
       "    </tr>\n",
       "    <tr>\n",
       "      <th>3</th>\n",
       "      <td>176560</td>\n",
       "      <td>Google Phone</td>\n",
       "      <td>1</td>\n",
       "      <td>600.00</td>\n",
       "      <td>669 Spruce St, Los Angeles, CA 90001</td>\n",
       "      <td>Los Angeles</td>\n",
       "      <td>CA</td>\n",
       "      <td>4</td>\n",
       "      <td>2019-04-12</td>\n",
       "      <td>14:38:00</td>\n",
       "      <td>600.00</td>\n",
       "    </tr>\n",
       "    <tr>\n",
       "      <th>5</th>\n",
       "      <td>176561</td>\n",
       "      <td>Wired Headphones</td>\n",
       "      <td>1</td>\n",
       "      <td>11.99</td>\n",
       "      <td>333 8th St, Los Angeles, CA 90001</td>\n",
       "      <td>Los Angeles</td>\n",
       "      <td>CA</td>\n",
       "      <td>4</td>\n",
       "      <td>2019-04-30</td>\n",
       "      <td>09:27:00</td>\n",
       "      <td>11.99</td>\n",
       "    </tr>\n",
       "    <tr>\n",
       "      <th>6</th>\n",
       "      <td>176562</td>\n",
       "      <td>USB-C Charging Cable</td>\n",
       "      <td>1</td>\n",
       "      <td>11.95</td>\n",
       "      <td>381 Wilson St, San Francisco, CA 94016</td>\n",
       "      <td>San Francisco</td>\n",
       "      <td>CA</td>\n",
       "      <td>4</td>\n",
       "      <td>2019-04-29</td>\n",
       "      <td>13:03:00</td>\n",
       "      <td>11.95</td>\n",
       "    </tr>\n",
       "    <tr>\n",
       "      <th>...</th>\n",
       "      <td>...</td>\n",
       "      <td>...</td>\n",
       "      <td>...</td>\n",
       "      <td>...</td>\n",
       "      <td>...</td>\n",
       "      <td>...</td>\n",
       "      <td>...</td>\n",
       "      <td>...</td>\n",
       "      <td>...</td>\n",
       "      <td>...</td>\n",
       "      <td>...</td>\n",
       "    </tr>\n",
       "    <tr>\n",
       "      <th>186845</th>\n",
       "      <td>259353</td>\n",
       "      <td>AAA Batteries (4-pack)</td>\n",
       "      <td>3</td>\n",
       "      <td>2.99</td>\n",
       "      <td>840 Highland St, Los Angeles, CA 90001</td>\n",
       "      <td>Los Angeles</td>\n",
       "      <td>CA</td>\n",
       "      <td>9</td>\n",
       "      <td>2019-09-17</td>\n",
       "      <td>20:56:00</td>\n",
       "      <td>8.97</td>\n",
       "    </tr>\n",
       "    <tr>\n",
       "      <th>186846</th>\n",
       "      <td>259354</td>\n",
       "      <td>iPhone</td>\n",
       "      <td>1</td>\n",
       "      <td>700.00</td>\n",
       "      <td>216 Dogwood St, San Francisco, CA 94016</td>\n",
       "      <td>San Francisco</td>\n",
       "      <td>CA</td>\n",
       "      <td>9</td>\n",
       "      <td>2019-09-01</td>\n",
       "      <td>16:00:00</td>\n",
       "      <td>700.00</td>\n",
       "    </tr>\n",
       "    <tr>\n",
       "      <th>186847</th>\n",
       "      <td>259355</td>\n",
       "      <td>iPhone</td>\n",
       "      <td>1</td>\n",
       "      <td>700.00</td>\n",
       "      <td>220 12th St, San Francisco, CA 94016</td>\n",
       "      <td>San Francisco</td>\n",
       "      <td>CA</td>\n",
       "      <td>9</td>\n",
       "      <td>2019-09-23</td>\n",
       "      <td>07:39:00</td>\n",
       "      <td>700.00</td>\n",
       "    </tr>\n",
       "    <tr>\n",
       "      <th>186848</th>\n",
       "      <td>259356</td>\n",
       "      <td>34in Ultrawide Monitor</td>\n",
       "      <td>1</td>\n",
       "      <td>379.99</td>\n",
       "      <td>511 Forest St, San Francisco, CA 94016</td>\n",
       "      <td>San Francisco</td>\n",
       "      <td>CA</td>\n",
       "      <td>9</td>\n",
       "      <td>2019-09-19</td>\n",
       "      <td>17:30:00</td>\n",
       "      <td>379.99</td>\n",
       "    </tr>\n",
       "    <tr>\n",
       "      <th>186849</th>\n",
       "      <td>259357</td>\n",
       "      <td>USB-C Charging Cable</td>\n",
       "      <td>1</td>\n",
       "      <td>11.95</td>\n",
       "      <td>250 Meadow St, San Francisco, CA 94016</td>\n",
       "      <td>San Francisco</td>\n",
       "      <td>CA</td>\n",
       "      <td>9</td>\n",
       "      <td>2019-09-30</td>\n",
       "      <td>00:18:00</td>\n",
       "      <td>11.95</td>\n",
       "    </tr>\n",
       "  </tbody>\n",
       "</table>\n",
       "<p>178437 rows × 11 columns</p>\n",
       "</div>"
      ],
      "text/plain": [
       "        Order ID                     Product  Quantity Ordered  Price/unit  \\\n",
       "0         176558        USB-C Charging Cable                 2       11.95   \n",
       "2         176559  Bose SoundSport Headphones                 1       99.99   \n",
       "3         176560                Google Phone                 1      600.00   \n",
       "5         176561            Wired Headphones                 1       11.99   \n",
       "6         176562        USB-C Charging Cable                 1       11.95   \n",
       "...          ...                         ...               ...         ...   \n",
       "186845    259353      AAA Batteries (4-pack)                 3        2.99   \n",
       "186846    259354                      iPhone                 1      700.00   \n",
       "186847    259355                      iPhone                 1      700.00   \n",
       "186848    259356      34in Ultrawide Monitor                 1      379.99   \n",
       "186849    259357        USB-C Charging Cable                 1       11.95   \n",
       "\n",
       "                               Purchase Address           City State  Month  \\\n",
       "0                  917 1st St, Dallas, TX 75001         Dallas    TX      4   \n",
       "2             682 Chestnut St, Boston, MA 02215         Boston    MA      4   \n",
       "3          669 Spruce St, Los Angeles, CA 90001    Los Angeles    CA      4   \n",
       "5             333 8th St, Los Angeles, CA 90001    Los Angeles    CA      4   \n",
       "6        381 Wilson St, San Francisco, CA 94016  San Francisco    CA      4   \n",
       "...                                         ...            ...   ...    ...   \n",
       "186845   840 Highland St, Los Angeles, CA 90001    Los Angeles    CA      9   \n",
       "186846  216 Dogwood St, San Francisco, CA 94016  San Francisco    CA      9   \n",
       "186847     220 12th St, San Francisco, CA 94016  San Francisco    CA      9   \n",
       "186848   511 Forest St, San Francisco, CA 94016  San Francisco    CA      9   \n",
       "186849   250 Meadow St, San Francisco, CA 94016  San Francisco    CA      9   \n",
       "\n",
       "              Date      Time  Total Cost  \n",
       "0       2019-04-19  08:46:00       23.90  \n",
       "2       2019-04-07  22:30:00       99.99  \n",
       "3       2019-04-12  14:38:00      600.00  \n",
       "5       2019-04-30  09:27:00       11.99  \n",
       "6       2019-04-29  13:03:00       11.95  \n",
       "...            ...       ...         ...  \n",
       "186845  2019-09-17  20:56:00        8.97  \n",
       "186846  2019-09-01  16:00:00      700.00  \n",
       "186847  2019-09-23  07:39:00      700.00  \n",
       "186848  2019-09-19  17:30:00      379.99  \n",
       "186849  2019-09-30  00:18:00       11.95  \n",
       "\n",
       "[178437 rows x 11 columns]"
      ]
     },
     "execution_count": 40,
     "metadata": {},
     "output_type": "execute_result"
    }
   ],
   "source": [
    "df"
   ]
  },
  {
   "cell_type": "code",
   "execution_count": null,
   "id": "090ad987",
   "metadata": {},
   "outputs": [],
   "source": []
  }
 ],
 "metadata": {
  "kernelspec": {
   "display_name": "Python 3 (ipykernel)",
   "language": "python",
   "name": "python3"
  },
  "language_info": {
   "codemirror_mode": {
    "name": "ipython",
    "version": 3
   },
   "file_extension": ".py",
   "mimetype": "text/x-python",
   "name": "python",
   "nbconvert_exporter": "python",
   "pygments_lexer": "ipython3",
   "version": "3.10.9"
  }
 },
 "nbformat": 4,
 "nbformat_minor": 5
}
